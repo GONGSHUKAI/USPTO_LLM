{
 "cells": [
  {
   "cell_type": "code",
   "execution_count": 125,
   "metadata": {},
   "outputs": [],
   "source": [
    "import json\n",
    "import os\n",
    "import copy\n",
    "file_path = '/Users/gongshukai/Desktop/ML RESEARCH/Ongoing Project/USPTO_LLM/Larrea/requests/result_uspto_requests.json'\n",
    "file_path2 = '/Users/gongshukai/Desktop/ML RESEARCH/Ongoing Project/USPTO_LLM/Larrea/requests/uspto_requests.json'\n",
    "output_path = '/Users/gongshukai/Desktop/ML RESEARCH/Ongoing Project/USPTO_LLM/Training_Info/'"
   ]
  },
  {
   "cell_type": "code",
   "execution_count": 144,
   "metadata": {},
   "outputs": [
    {
     "data": {
      "text/plain": [
       "[\"To a stirred solution of N-(5-chloro-3-methoxypyridin-2-yl)-5-phenylpyridine-3-sulfonamide (150 mg, 0.40 mmol) in DCM (6 mL) at −10° C. was added BBr3 (300 mg, 1.20 mmol). The reaction was allowed to warm to room temperature and was stirred for 16 hrs. The reaction mixture was neutralised with saturated NaHCO3 and extracted with EtOAc. The organic layer was dried (Na2SO4), the mixture was filtered and the filtrate evaporated to dryness to give the crude product which was purified by preparative TLC (eluent 10% MeOH in DCM). Further purification, by automated reverse phase HPLC (low pH method), gave the title compound as an off-white solid (40 mg, 28%).\\n\\nREACTANTs:\\nR1: N-(5-chloro-3-methoxypyridin-2-yl)-5-phenylpyridine-3-sulfonamide,25;\\nR2: NaHCO3,305;\\nR3: BBr3,146;\\n\\n\\nPRODUCTs:\\nP1: title compound,610;\\n\\n\\nSOLVENTs:\\nS1: DCM,114;\\nS2: DCM,524;\\n\\n\\nCATALYSTs:\\nNone\\n\\nTIMEs:\\nT1: 16 hrs,245;\\n\\n\\nTEMPERATUREs:\\nE1: −10° C.,128;\\nE2: room temperature,208;\\n\\n\\nYIELD:\\nY1: 28%,655;\\n\\n[Output]:\\nDon't make the mistake of 'R1.R3.S1.E1.T1>M1\\nM1.R2>P1' .Check the 5 rules again!\\n\",\n",
       " \"To a solution of 7.0 g (0.0143 mole) of 3-[2-[4-(2,4-difluoro-benzoyl)-piperidino]ethyl]-6,7,8,9-tetrahydro-2-methyl-4H-pyrido[1,2-a]pyrimidin-4-one, 70 ml of pyridine, 5.4 g (0.0777 mole) of hydroxylamine hydrochloride and 100 ml of ethanol 1.6 g (0.0286 mole) of potassium hydroxide are added. The reaction mixture is heated to boiling for 10 hours, cooled to room temperature and the solvent is removed in vacuo. To the residue 100 ml of water are added and the mixture is extracted with 100 ml of dichloromethane. The organic phase is washed twice with 50 ml of water each, dried over anhydrous magnesium sulfate and evaporated. The residual crude product is recrystallized from ethyl acetate. Thus 4.2 g of 3-[2-[4-[(2,4-difluorophenyl)-(hydroxyimino)-methyl]-1-piperidinyl]ethyl]-6,7,8,9-tetrahydro-2-methyl-4H-pyrido[1,2-a]pyrimidin-4-one are obtained. Yield 65.1%. According to HPLC analysis the purity of the product is 97.2%.\\n\\nREACTANTs:\\nR1: 3-[2-[4-(2,4-difluoro-benzoyl)-piperidino]ethyl]-6,7,8,9-tetrahydro-2-methyl-4H-pyrido[1,2-a]pyrimidin-4-one,40;\\nR2: hydroxylamine hydrochloride,192;\\nR3: potassium hydroxide,265;\\nR4: ethanol,234;\\n\\n\\nPRODUCTs:\\nP1: 3-[2-[4-[(2,4-difluorophenyl)-(hydroxyimino)-methyl]-1-piperidinyl]ethyl]-6,7,8,9-tetrahydro-2-methyl-4H-pyrido[1,2-a]pyrimidin-4-one,712;\\n\\n\\nSOLVENTs:\\nS1: pyridine,159;\\n\\n\\nCATALYSTs:\\nNone\\n\\nTIMEs:\\nT1: 10 hours,342;\\n\\n\\nTEMPERATUREs:\\nE1: room temperature,362;\\n\\n\\nYIELD:\\nY1: Yield 65.1%,860;\\n\\n[Output]:\\nDon't make the mistake of 'R1.R2.R3.R4>S1.T1>E1>M1\\nM1>>P1' .Check the 5 rules again!\\n\",\n",
       " \"To a stirred solution of 3.36 Kg of 5-amino-3-(1-ethyl-1-methylpropyl)isoxazole in 65 liters of toluene was added portion-wise over thirty minutes 4.015 Kg of 2,6-dimethoxybenzoyl chloride. The reaction mixture was heated to reflux and stirred for forty-eight hours. It was then cooled to room temperature and concentrated to a volume of about 25 liters by evaporation of the solvent under reduced pressure. The product precipitated and was collected by filtration, washed with fresh toluene, and air dried to provide 6.084 Kg of N-[3-(1-ethyl-1-methylpropyl]-5-isoxazolyl]-2,6-dimethoxybenzamide. M.P. 172°-174° C. Yield 91%.\\n\\nREACTANTs:\\nR1: 5-amino-3-(1-ethyl-1-methylpropyl)isoxazole,36;\\nR2: 2,6-dimethoxybenzoyl chloride,159;\\n\\n\\nPRODUCTs:\\nP1: N-[3-(1-ethyl-1-methylpropyl]-5-isoxazolyl]-2,6-dimethoxybenzamide,530;\\n\\n\\nSOLVENTs:\\nS1: toluene,96;\\nS2: toluene,484;\\n\\n\\nCATALYSTs:\\nNone\\n\\nTIMEs:\\nT1: thirty minutes,132;\\nT2: forty-eight hours,248;\\n\\n\\nTEMPERATUREs:\\nE1: room temperature,289;\\n\\n\\nYIELD:\\nY1: Yield 91%,616;\\n\\n[Output]:\\nDon't make the mistake of 'R1.R2>S1.T1>E1>M1\\nM1>S2>E1>P1' .Check the 5 rules again!\\n\",\n",
       " \"A mixture of 5,6-dichloro-3-pyridinecarboxamide (4.0 g, 0.02 mol), dimethylacetamide dimethyl acetal (8 mL) was heated in an oil bath at 120° C. for three hours. The reaction mixture was cooled to room temperature and the solid recrystallised from ethyl acetate:hexane in the presence of activated carbon to give the desired product (2.3 g, 42%) as an orange solid.\\n\\nREACTANTs:\\nR1: 5,6-dichloro-3-pyridinecarboxamide,13;\\nR2: dimethylacetamide dimethyl acetal,67;\\n\\n\\nPRODUCTs:\\nP1: desired product,317;\\n\\n\\nSOLVENTs:\\nNone\\n\\nCATALYSTs:\\nNone\\n\\nTIMEs:\\nT1: three hours,149;\\n\\n\\nTEMPERATUREs:\\nE1: 120° C.,137;\\nE2: room temperature,197;\\n\\n\\nYIELD:\\nY1: 42%,341;\\n\\n[Output]:\\nDon't make the mistake of 'R1.R2.R3>E1.T1>T2>P1' .Check the 5 rules again!\\n\",\n",
       " \"A mixture comprising 1.63 g of 2H-3,1-benzoxazine-2,4(1H)-dione, 1.78 g of ethyl orthoformate and 2.77 g of 4-(2-ethoxyphenyl)-1-(4-aminobutyl)piperazine was heated on a boiling water bath for about 10 minutes and further heated on an oil bath of 120° to 130° C. for about 2 hours. After the completion of the reaction, the reaction mixture was concentrated under a reduced pressure and the residue was columnchromatographed over silica gel column and eluted with an ethyl acetatetriethylamine solvent (30:1) to give 1.5 g of 3-{4-[4-(2-ethoxyphenyl)-1-piperazinyl]butyl}-4(3H)-quinazolone as an oil (yield: 66.7%). ##STR15## 1.50 g of this oily free base was dissolved in a small amount of acetone. The obtained solution was added to a saturated solution of 0.857 g of fumaric acid in acetone to precipitate a crude crystal. The crude crystal was recrystallized from ethanol to give 1.65 g of the corresponding monofumarate having a melting point of 197° to 198° C. as a colorless prisms.\\n\\nREACTANTs:\\nR1: 4-(2-ethoxyphenyl)-1-(4-aminobutyl)piperazine,108;\\nR2: 2H-3,1-benzoxazine-2,4(1H)-dione,31;\\nR3: ethyl orthoformate,75;\\n\\n\\nPRODUCTs:\\nP1: 3-{4-[4-(2-ethoxyphenyl)-1-piperazinyl]butyl}-4(3H)-quinazolone,526;\\n\\n\\nSOLVENTs:\\nNone\\n\\nCATALYSTs:\\nNone\\n\\nTIMEs:\\nT1: about 10 minutes,193;\\nT2: about 2 hours,267;\\n\\n\\nTEMPERATUREs:\\nE1: 120° to 130° C.,247;\\n\\n\\nYIELD:\\nY1: yield: 66.7%,601;\\n\\n[Output]:\\nDon't make the mistake of 'R1.R2>S1.E1.T1>S2.E2.T2>M1\\nM1>E3.T3>P1' .Check the 5 rules again!\\n\"]"
      ]
     },
     "execution_count": 144,
     "metadata": {},
     "output_type": "execute_result"
    }
   ],
   "source": [
    "with open(file_path, 'r') as raw_response: \n",
    "    lines = raw_response.readlines()\n",
    "    total_data = [json.loads(line) for line in lines]\n",
    "\n",
    "example_data = total_data[0]\n",
    "\n",
    "def extract_description(example_data):\n",
    "    total_description = example_data[0]['messages'][1]['content']\n",
    "\n",
    "    total_description = total_description.split('[Input]\\nReaction ')[1:]\n",
    "\n",
    "    for i, each_description in enumerate(total_description):\n",
    "        first_split = each_description.index('\\n')\n",
    "        total_description[i] = each_description[first_split+1:]\n",
    "    \n",
    "    return total_description\n",
    "\n",
    "extract_description(example_data)"
   ]
  },
  {
   "cell_type": "code",
   "execution_count": 147,
   "metadata": {},
   "outputs": [
    {
     "data": {
      "text/plain": [
       "(['R1.R3.S1.E1.T1>M1\\nM1.R2>>P1',\n",
       "  'R1.R2.S1.T1>T2>M1\\nM1>>P1',\n",
       "  'R1.R2>E1.T1>E2>P1',\n",
       "  'R1.R2.R3>T1>E1.T2>P1'],\n",
       " ['20160428-US20160115158A1-0851',\n",
       "  '20140128-US08637537B2-0528',\n",
       "  '20001017-US06133294-0005',\n",
       "  '20110517-US07943567B2-0302'])"
      ]
     },
     "execution_count": 147,
     "metadata": {},
     "output_type": "execute_result"
    }
   ],
   "source": [
    "def extract_gpt_response(example_data):\n",
    "    total_response = example_data[1]['choices'][0]['message']['content']\n",
    "\n",
    "    total_response = total_response.split('Reaction ')[1:]\n",
    "\n",
    "    reaction_id = []\n",
    "    for i, response in enumerate(total_response):\n",
    "        first_split = response.index('\\n')\n",
    "        last_split = response.index('P1')\n",
    "        reaction_id.append(response[:first_split])\n",
    "        total_response[i] = response[first_split+1:last_split+2]\n",
    "    \n",
    "    return total_response, reaction_id\n",
    "\n",
    "extract_gpt_response(example_data)"
   ]
  },
  {
   "cell_type": "code",
   "execution_count": 136,
   "metadata": {},
   "outputs": [
    {
     "data": {
      "text/plain": [
       "False"
      ]
     },
     "execution_count": 136,
     "metadata": {},
     "output_type": "execute_result"
    }
   ],
   "source": [
    "def check_invalid_answer(answer)->bool:\n",
    "    # Check the validity of output heterogeneous graph\n",
    "    # answer is a string in the form of \"\"R1.R2.R4>S1.E1.T1>M1\\nM1.R3>E2.T2>P1\"\"\n",
    "    # split it by '\\n' to get each 'substep'\n",
    "    substeps = answer.split('\\n')\n",
    "    for substep in substeps:\n",
    "        # If each step has more than 2 '>', it is invalid\n",
    "        if substep.count('>') != 2:\n",
    "            return False\n",
    "        # If any entity with R and M is not in front of the first '>', it is invalid\n",
    "        if 'R' in substep:\n",
    "            if substep.index('R') > substep.index('>'):\n",
    "                return False\n",
    "        if 'M' in substep:\n",
    "            if substep.index('M') > substep.index('>') and substep.index('M') < substep.rindex('>'):\n",
    "                return False\n",
    "        if 'P' in substep:\n",
    "            if substep.index('P') < substep.rindex('>'):\n",
    "                return False\n",
    "        # If any entity with S, E, T, C is not behind the second '>', it is invalid\n",
    "        if 'S' in substep:\n",
    "            if substep.index('S') < substep.index('>') or substep.index('S') > substep.rindex('>'):\n",
    "                return False\n",
    "        if 'E' in substep:\n",
    "            if substep.index('E') < substep.index('>') or substep.index('E') > substep.rindex('>'):\n",
    "                return False\n",
    "        if 'T' in substep:\n",
    "            if substep.index('T') < substep.index('>') or substep.index('T') > substep.rindex('>'):\n",
    "                return False\n",
    "        if 'C' in substep:\n",
    "            if substep.index('C') < substep.index('>') or substep.index('C') > substep.rindex('>'):\n",
    "                return False\n",
    "    return True\n",
    "\n",
    "check_invalid_answer('R1.R2>E1.T1>M1\\nM1.R3>E2>M2\\nM2>S1>E3>M3\\nM3>>P1')"
   ]
  },
  {
   "cell_type": "code",
   "execution_count": 150,
   "metadata": {},
   "outputs": [
    {
     "name": "stdout",
     "output_type": "stream",
     "text": [
      "Structured data output success!\n"
     ]
    }
   ],
   "source": [
    "def output_structured_data(request_in_each_line = 0, threshold = 1):\n",
    "    # Read raw response first\n",
    "    with open(file_path, 'r') as raw_response: \n",
    "        lines = raw_response.readlines()\n",
    "        total_data = [json.loads(line) for line in lines]\n",
    "    \n",
    "    modified_request = copy.deepcopy(total_data[0][0])     # Fixed Prompt\n",
    "    modified_request['messages'][1]['content'] = \"\"\n",
    "\n",
    "    for dataline in total_data:\n",
    "        total_description = extract_description(dataline)\n",
    "        total_response, reaction_id = extract_gpt_response(dataline)\n",
    "\n",
    "        for idx, response in enumerate(total_response):\n",
    "            if check_invalid_answer(response):\n",
    "                with open(output_path + \"uspto_multiple_step.json\", 'a') as structured_data:\n",
    "                    structured_data.write(json.dumps({'reaction_id': reaction_id[idx], 'description': total_description[idx], 'response': response}) + '\\n')\n",
    "            else:\n",
    "                with open(output_path + \"uspto_invalid.json\", 'a') as invalid_data:\n",
    "                    if request_in_each_line < threshold:\n",
    "                        modified_request['messages'][1]['content'] += (\"[Input]\\nReaction \" + reaction_id[idx] + \" description:\\n\" + total_description[idx] + \"Don't make the mistake of '\" + response + \"'. Check the 5 rules again!\\n\")\n",
    "                        request_in_each_line += 1\n",
    "                    else:\n",
    "                        request_in_each_line = 0\n",
    "                        invalid_data.write(json.dumps(modified_request) + '\\n')\n",
    "                        modified_request['messages'][1]['content'] = \"\"\n",
    "                        modified_request['messages'][1]['content'] += (\"[Input]\\nReaction \" + reaction_id[idx] + \" description:\\n\" + total_description[idx] + \"Don't make the mistake of '\" + response + \"'. Check the 5 rules again!\\n\")\n",
    "                        request_in_each_line += 1\n",
    "        \n",
    "    # Less than threshold requests in one line, still need to write them\n",
    "    if request_in_each_line != 0:\n",
    "        with open(output_path + \"uspto_invalid.json\", 'a') as invalid_data:\n",
    "            invalid_data.write(json.dumps(modified_request) + '\\n')\n",
    "    # If no error arise, print success\n",
    "    print(\"Structured data output success!\")\n",
    "\n",
    "#if os.path.exists(output_path + \"uspto_multiple_step.json\"):\n",
    "#    os.remove(output_path + \"uspto_multiple_step.json\")\n",
    "if os.path.exists(output_path + \"uspto_invalid.json\"):\n",
    "    os.remove(output_path + \"uspto_invalid.json\")\n",
    "output_structured_data()"
   ]
  },
  {
   "cell_type": "code",
   "execution_count": 149,
   "metadata": {},
   "outputs": [
    {
     "name": "stdout",
     "output_type": "stream",
     "text": [
      "result_uspto_request.json removed!\n",
      "Writing uspto_invalid.json over uspto_request.json for API-recalling\n"
     ]
    }
   ],
   "source": [
    "def write_over_original_file(\n",
    "        read_file = output_path + \"uspto_invalid.json\",\n",
    "        write_path = file_path2\n",
    "        ):\n",
    "    with open(read_file, 'r') as invalid_file:\n",
    "        lines = invalid_file.readlines()\n",
    "        with open(write_path, 'w') as raw_file:\n",
    "            for line in lines:\n",
    "                raw_file.write(line)\n",
    "\n",
    "if os.path.exists(file_path):\n",
    "    os.remove(file_path)\n",
    "    print(\"result_uspto_request.json removed!\")\n",
    "    print(\"Writing uspto_invalid.json over uspto_request.json for API-recalling\")\n",
    "    write_over_original_file()\n",
    "else:\n",
    "    print(\"uspto_request.json does not exist!\")\n"
   ]
  }
 ],
 "metadata": {
  "kernelspec": {
   "display_name": "Python 3",
   "language": "python",
   "name": "python3"
  },
  "language_info": {
   "codemirror_mode": {
    "name": "ipython",
    "version": 3
   },
   "file_extension": ".py",
   "mimetype": "text/x-python",
   "name": "python",
   "nbconvert_exporter": "python",
   "pygments_lexer": "ipython3",
   "version": "3.9.6"
  }
 },
 "nbformat": 4,
 "nbformat_minor": 2
}
