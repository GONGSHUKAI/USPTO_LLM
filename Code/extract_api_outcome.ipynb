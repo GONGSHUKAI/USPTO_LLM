{
 "cells": [
  {
   "cell_type": "code",
   "execution_count": null,
   "metadata": {},
   "outputs": [],
   "source": [
    "import json\n",
    "import os\n",
    "import copy\n",
    "file_path = './Larrea/requests/result_uspto_requests.json'\n",
    "file_path2 = './Larrea/requests/uspto_requests.json'\n",
    "output_path = './Training_Info/'"
   ]
  },
  {
   "cell_type": "code",
   "execution_count": 10,
   "metadata": {},
   "outputs": [
    {
     "data": {
      "text/plain": [
       "['To a suspension of glycinamide hydrochloride (0.55 g, 5 mmol) in DMF (10 mL) was added triethylamine (1.7 mL, 12 mmol) and the resulting mixture was stirred for 15 min at room temperature. This was added to a solution of 5-chloro-3-methoxy-[1,2,4]thiadiazole (0.38 g, 2.5 mmol, prepared according to the procedure by Goerdeler, J. et al. in Chem. Ber. 1955, 88, 843) in DMF (15 mL). Then, tetra-butylammonium bromide (50 mg) was added and the resulting suspension was heated at 80-85° C. for 1.5 h. On cooling to room temperature, the reaction mixture was diluted with water and ethyl acetate. The organic layer was collected, washed with brine, sat. Sodium bicarbonate solution, brine, dried (sodium sulfate), filtered and concentrated in vacuo. Purification by column chromatography on silica gel using a solvent mixture of dichloromethane and methanol (95/5 and 9/1) afforded 2-(3-methoxy-[1,2,4]thiadiazol-5-ylamino)-acetamide (75 mg, 16%) as a white solid. 1H-NMR (MeOD) δ 4.03 (s, 2H, NCH2), 3.94 (s, 3H, OMe); 13C-NMR (MeOD) δ 182.0, 173.3, 170.0, 56.7 (MeO), 47.9; MS (m/z) 189 (M++1), 172, 144, 87.\\n\\nREACTANTs:\\nR1: 5-chloro-3-methoxy-[1,2,4]thiadiazole,221;\\nR2: glycinamide hydrochloride,19;\\nR3: triethylamine,87;\\n\\n\\nPRODUCTs:\\nP1: 2-(3-methoxy-[1,2,4]thiadiazol-5-ylamino)-acetamide,879;\\n\\n\\nSOLVENTs:\\nS1: ethyl acetate,579;\\nS2: water,569;\\nS3: DMF,65;\\nS4: DMF,370;\\n\\n\\nCATALYSTs:\\nC1: tetra-butylammonium bromide,389;\\n\\n\\nTIMEs:\\nT1: 15 min,161;\\nT2: 1.5 h,492;\\n\\n\\nTEMPERATUREs:\\nE1: room temperature,171;\\nE2: room temperature,513;\\nE3: 80-85° C.,478;\\n\\n\\nYIELD:\\nY1: 16%,939;\\n\\n[Output]:\\n(Always remember a standard substep format is \"Rx.Ry>Sx.Cx.Ex.Tx>Mx\" with at most two \">\", separating reactants, reaction conditions, and products!)(Do not make the mistake of \\'R2>S4.R3.T1>M1\\nM1.R1>S3.E1>M2\\nM2.C1.E3.T2>M3\\nM3.>S2>M4\\nM4>>P1\\')',\n",
       " 'To a suspension of (7,8-dimethyl-2,4-dioxo-3,4-dihydro-2H-benzo[g]pteridin-10-yl)-acetaldehyde (100 mg, 0.35 mmol) in methanol (7 mL) is added N-(3-amino-propyl)-C,C,C-trifluoro-methanesulfonamide (72 mg, 0.35 mmol)) and acetic acid (0.1 mL) at room temperature. After 30 min., sodium cyanoborohydride (48 mg, 0.77 mmol) is added, and the solution is stirred for 16 h. The reaction mixture is concentrated, and the residue is dissolved in DMF/water, filtered, and purified by preparative HPLC (Method 1). N-{3-[2-(7,8-Dimethyl-2,4-dioxo-3,4-dihydro-2H-benzo[g]pteridin-10-yl)-ethylamino]-propyl}-C,C,C-trifluoromethanesulfonamide (21 mg) is isolated following lyophilization of the appropriate fractions (Yield: 13%). 1H NMR (400 MHz, DMSO-d6) δ 1.82 (t, 2H), 2.43 (s, 3H), 2.54 (s, 3H), 3.13 (m, 2H), 3.25 (m, 2H), 4.94 (m, 2H), 7.81 (d, 1H), 7.99 (m, 1H), 8.63 (brs, 1H), 9.56 (brs, 1H), 11.49 (s, 1H). LC-MS m/z 475.2 [M−H].\\n\\nREACTANTs:\\nR1: (7,8-dimethyl-2,4-dioxo-3,4-dihydro-2H-benzo[g]pteridin-10-yl)-acetaldehyde,19;\\nR2: N-(3-amino-propyl)-C,C,C-trifluoro-methanesulfonamide,143;\\nR3: sodium cyanoborohydride,278;\\nR4: acetic acid,221;\\n\\n\\nPRODUCTs:\\nP1: N-{3-[2-(7,8-Dimethyl-2,4-dioxo-3,4-dihydro-2H-benzo[g]pteridin-10-yl)-ethylamino]-propyl}-C,C,C-trifluoromethanesulfonamide,505;\\n\\n\\nSOLVENTs:\\nS1: methanol,118;\\n\\n\\nCATALYSTs:\\nNone\\n\\nTIMEs:\\nT1: 30 min.,269;\\nT2: 16 h,363;\\n\\n\\nTEMPERATUREs:\\nE1: room temperature,245;\\n\\n\\nYIELD:\\nY1: Yield: 13%,705;\\n\\n[Output]:\\n(Always remember a standard substep format is \"Rx.Ry>Sx.Cx.Ex.Tx>Mx\" with at most two \">\", separating reactants, reaction conditions, and products!)(Do not make the mistake of \\'R1.R2.S1>R3.R4>>M1\\nM1>T1.M2\\nM2>S4>M3\\nM3>>P1\\')',\n",
       " 'To a suspension of 37 (1.0 g, 1.65 mmol) in THF (18 mL) was added aqueous 4N HCl solution (12 mL, 48 mmol) at RT and the reaction mixture was heated at 50° C. overnight. The mixture was concentrated, basified with aqueous 1N NaOH solution and stirred at RT for 1 hour to form a precipitate. The precipitate was collected by filtration and dried to afford the title compound 38 (0.76 g, 99% yield) as a beige solid. MS (m/z): 464.34 (M+H).\\n\\nREACTANTs:\\nR1: HCl,77;\\nR2: 37,19;\\n\\n\\nPRODUCTs:\\nP1: title compound 38,359;\\n\\n\\nSOLVENTs:\\nS1: THF,44;\\n\\n\\nCATALYSTs:\\nNone\\n\\nTIMEs:\\nT1: overnight,159;\\nT2: 1 hour,261;\\n\\n\\nTEMPERATUREs:\\nE1: RT,110;\\nE2: RT,254;\\nE3: 50° C.,152;\\n\\n\\nYIELD:\\nY1: 99% yield,386;\\n\\n[Output]:\\n(Always remember a standard substep format is \"Rx.Ry>Sx.Cx.Ex.Tx>Mx\" with at most two \">\", separating reactants, reaction conditions, and products!)(Do not make the mistake of \\'R2.R1>S1.E3.T1>M1\\nM1.R2>S1.E1.T2>P1\\')']"
      ]
     },
     "execution_count": 10,
     "metadata": {},
     "output_type": "execute_result"
    }
   ],
   "source": [
    "with open(file_path, 'r') as raw_response: \n",
    "    lines = raw_response.readlines()\n",
    "    total_data = [json.loads(line) for line in lines]\n",
    "\n",
    "def extract_description(example_data):\n",
    "    total_description = example_data[0]['messages'][1]['content']\n",
    "\n",
    "    total_description = total_description.split('[Input]\\nReaction ')[1:]\n",
    "\n",
    "    for i, each_description in enumerate(total_description):\n",
    "        first_split = each_description.index('\\n')\n",
    "        total_description[i] = each_description[first_split+1:]\n",
    "    \n",
    "    return total_description\n",
    "\n",
    "example_data = total_data[0]\n",
    "\n",
    "extract_description(example_data)"
   ]
  },
  {
   "cell_type": "markdown",
   "metadata": {},
   "source": [
    "## LLM response extraction\n",
    "return the reaction processes and their corresponding reaction id from the LLM model"
   ]
  },
  {
   "cell_type": "code",
   "execution_count": 11,
   "metadata": {},
   "outputs": [
    {
     "data": {
      "text/plain": [
       "(['R2.S4.R3>T2.M1\\nM1.R1.S3.E1>T1>M2\\nM2.C1.E3.T2>M3\\nM3.>S2>M4\\nM4>>P1',\n",
       "  'R1.R2.S1>R3.T1.M1\\nM1.S4.R4.T2>M2\\nM2.>M3\\nM3>>P1',\n",
       "  'R2.S1>R1.E1.T1.M1\\nM1.E2.T2>S1>M2\\nM2>>P1'],\n",
       " ['20021022-US06468977B1-0002',\n",
       "  '20120329-US20120077781A1-0719',\n",
       "  '20130411-US20130090327A1-0338'])"
      ]
     },
     "execution_count": 11,
     "metadata": {},
     "output_type": "execute_result"
    }
   ],
   "source": [
    "def extract_gpt_response(example_data):\n",
    "    total_response = example_data[1]['choices'][0]['message']['content'].split('Reaction ')[1:]\n",
    "    total_response = [each.replace('ID', \"\").replace(' ', '').replace('*', '').replace('`', '').replace(':', '') for each in total_response]\n",
    "    total_description = example_data[0]['messages'][1]['content'].split('[Input]\\nReaction ')[1:]\n",
    "    total_description_id=[each[:each.index(' description')] for each in total_description]\n",
    "\n",
    "\n",
    "    reaction_id = []\n",
    "    reaction_process = []\n",
    "    for response in total_response:\n",
    "        try:\n",
    "            if 'description' in response:\n",
    "                # API wrongly generates the whole description instead of the reaction process\n",
    "                continue\n",
    "            first_split = response.index('\\n')\n",
    "            if 'P1' not in response:\n",
    "                # Modify errors where 'P1' is not the final product\n",
    "                last_split = response.rindex('>')+1\n",
    "                response = response[:last_split] + 'P1'\n",
    "            else:\n",
    "                last_split = response.index('P1')\n",
    "            if response[:first_split] not in total_description_id or response[:first_split] in reaction_id:\n",
    "                continue\n",
    "            else:\n",
    "                # delete all blankspaces in the reaction process\n",
    "                response = response.replace(' ', '')\n",
    "                reaction_id.append(response[:first_split])\n",
    "                reaction_process.append(response[first_split+1:last_split+2])\n",
    "        except:\n",
    "            continue\n",
    "    \n",
    "    return reaction_process, reaction_id\n",
    "\n",
    "example_data = total_data[0]\n",
    "extract_gpt_response(example_data)"
   ]
  },
  {
   "cell_type": "markdown",
   "metadata": {},
   "source": [
    "## Pattern Repair\n",
    "Ex. Wrong Format in LLM response\n",
    "> `R1>S1.T1>E1>P1` -> `R1>S1.T1.E1>P1`\n",
    "\n",
    "Ex. Incorrect inclusion of post-processes\n",
    "> `R1>S1.T1.E1>M1\\nM1>>P1` -> `R1>S1.T1.E1>P1`"
   ]
  },
  {
   "cell_type": "code",
   "execution_count": 12,
   "metadata": {},
   "outputs": [
    {
     "data": {
      "text/plain": [
       "'R1.R3.R4>S1.T1>M1\\nM1.R2>S2.T2>M2\\nM2>>P1'"
      ]
     },
     "execution_count": 12,
     "metadata": {},
     "output_type": "execute_result"
    }
   ],
   "source": [
    "def pattern_repair(answer):\n",
    "    returned_substeps = []\n",
    "    flag = 0\n",
    "    substeps = answer.replace(' ', '').split('\\n')\n",
    "    for substep in substeps:\n",
    "        if 'S' in substep:\n",
    "            S_index = substep.index('S')\n",
    "        else:\n",
    "            S_index = float('inf')\n",
    "        if 'T' in substep:\n",
    "            T_index = substep.index('T')\n",
    "        else:\n",
    "            T_index = float('inf')\n",
    "        if 'E' in substep:\n",
    "            E_index = substep.index('E')\n",
    "        else:\n",
    "            E_index = float('inf')\n",
    "        if 'C' in substep:\n",
    "            C_index = substep.index('C')\n",
    "        else:\n",
    "            C_index = float('inf')\n",
    "        if 'M' in substep:\n",
    "            M_index = substep.index('M')\n",
    "        else:\n",
    "            M_index = float('inf')\n",
    "\n",
    "        try:\n",
    "            if 'P' in substep:\n",
    "                P_index = substep.index('P')\n",
    "            elif 'M' in substep and substep.rindex('M') > substep.rindex('>'):\n",
    "                P_index = substep.rindex('M')\n",
    "            else:\n",
    "                P_index = float('inf')\n",
    "        except:\n",
    "            P_index = float('inf')\n",
    "        index_dict1 = {'S': S_index, 'T': T_index, 'E': E_index, 'C': C_index}\n",
    "        index_dict2 = {'M': M_index, 'P': P_index}\n",
    "\n",
    "        # Condition1: too many \">\" in the substep / the \">\" is not in the right order\n",
    "        if substep.count('>') >= 2:\n",
    "            if index_dict1 == {'S': float('inf'), 'T': float('inf'), 'E': float('inf'), 'C': float('inf')}:\n",
    "                # Condition2: There are no conditions in the substep\n",
    "                begin_condition = substep.index('>') + 1\n",
    "                end_condition = substep.rindex('>') - 1\n",
    "                flag = 1\n",
    "            else:\n",
    "                begin_condition = min([index_dict1[key] for key in index_dict1 if index_dict1[key] != float('inf')])\n",
    "                end_condition = max([index_dict1[key] for key in index_dict1 if index_dict1[key] != float('inf')])\n",
    "            if index_dict2 == {'M': float('inf'), 'P': float('inf')}:\n",
    "                begin_product = substep.rindex('>') + 1\n",
    "            elif [index_dict2[key] for key in index_dict2 if index_dict2[key] != float('inf') and index_dict2[key] > end_condition] != []:\n",
    "                begin_product = min([index_dict2[key] for key in index_dict2 if index_dict2[key] != float('inf') and index_dict2[key] > end_condition])\n",
    "            else:\n",
    "                returned_substeps.append(substep)\n",
    "                continue\n",
    "\n",
    "            # Condition3: R1.R2.S1.E1.T1>R4>P1, this should be decomposed into 2 substeps\n",
    "            # We will not deal with this situation in this function\n",
    "            if 'R' in substep:\n",
    "                if substep.rindex('R') > end_condition:\n",
    "                    returned_substeps.append(substep)\n",
    "                    continue\n",
    "            if begin_condition >= begin_product:         # Invalid syntax, we will not deal with it\n",
    "                returned_substeps.append(substep)\n",
    "            else:\n",
    "                substep = substep.replace('>', '.')\n",
    "                if flag == 1:   # There are no conditions in the substep\n",
    "                    modified_substep = substep[:begin_condition-1] + '>' + '>' + substep[begin_product:]\n",
    "                    flag = 0\n",
    "                else:\n",
    "                    modified_substep = substep[:begin_condition-1] + '>' + substep[begin_condition:end_condition+2] + '>' + substep[begin_product:]\n",
    "                returned_substeps.append(modified_substep)\n",
    "        # Condition5: If the substep is fine / If the error cannot be fixed easily\n",
    "        else:\n",
    "            returned_substeps.append(substep)\n",
    "    return '\\n'.join(returned_substeps)\n",
    "\n",
    "test1 = \"R1.R2.R3.C1>S1.E1.T1>M1  \\nM1>P1\"  # Condition 1 and 5\n",
    "test2 = \"R1.R3.S1>T1>E1>M1  \\nM1>R4.T2>>P1\" # Condition 1 and 4\n",
    "test3 = \"R1.R2.S1.E1.T1 > R4 > P1\"          # Condition 3\n",
    "test4 = \"R1.M1>>>> P1\"                      # Condition 2\n",
    "test5 = \"R1.R2.R3.R4>S1.E1.T1>M1\\nM1>S2.E2.T2>P1\" # Normal data\n",
    "test6 = \"R1.M1>>P1\"\n",
    "test7 = \"R3.R2.R4>S1.E1.T1>M1  \\nR1>>M1  \\nM1>>P1\"\n",
    "test8 = \"R1.C1.S1.E1.T1.M1\\nM1.R3.R4.S2.T4>M2\\nM2.S5.T5>P1\"\n",
    "pattern_repair(\"R1.R3.R4>S1.T1>M1\\nM1>R2>S2.T2>M2\\nM2>>P1\")"
   ]
  },
  {
   "cell_type": "code",
   "execution_count": 13,
   "metadata": {},
   "outputs": [
    {
     "data": {
      "text/plain": [
       "True"
      ]
     },
     "execution_count": 13,
     "metadata": {},
     "output_type": "execute_result"
    }
   ],
   "source": [
    "def check_invalid_answer(answer)->bool:\n",
    "    # Check the validity of output heterogeneous graph\n",
    "    # answer is a string in the form of \"\"R1.R2.R4>S1.E1.T1>M1\\nM1.R3>E2.T2>P1\"\"\n",
    "    # split it by '\\n' to get each 'substep'\n",
    "    valid_alphabet = ['R', 'M', 'S', 'E', 'T', 'C', 'P', '>', '.', '\\n']\n",
    "    substeps = answer.split('\\n')\n",
    "    all_entities = []\n",
    "    for substep in substeps:\n",
    "        # If each step has more than 2 '>', it is invalid\n",
    "        if substep.count('>') != 2:\n",
    "            return False\n",
    "        # If any char is not in valid_alphabet or not number, it is invalid\n",
    "        for char in substep:\n",
    "            if char not in valid_alphabet and not char.isdigit():\n",
    "                return False\n",
    "        # If any entity with R and M is not in front of the first '>', it is invalid\n",
    "        if 'R' in substep:\n",
    "            if substep.rindex('R') > substep.index('>'):\n",
    "                return False\n",
    "        if 'M' in substep:\n",
    "            if substep.index('M') > substep.index('>') and substep.index('M') < substep.rindex('>'):\n",
    "                return False\n",
    "        if 'P' in substep:\n",
    "            if substep.index('P') < substep.rindex('>'):\n",
    "                return False\n",
    "        # If any entity with S, E, T, C is not behind the second '>', it is invalid\n",
    "        if 'S' in substep:\n",
    "            if substep.index('S') < substep.index('>') or substep.index('S') > substep.rindex('>'):\n",
    "                return False\n",
    "        if 'E' in substep:\n",
    "            if substep.index('E') < substep.index('>') or substep.index('E') > substep.rindex('>'):\n",
    "                return False\n",
    "        if 'T' in substep:\n",
    "            if substep.index('T') < substep.index('>') or substep.index('T') > substep.rindex('>'):\n",
    "                return False\n",
    "        if 'C' in substep:\n",
    "            if substep.index('C') < substep.index('>') or substep.index('C') > substep.rindex('>'):\n",
    "                return False\n",
    "    # Check repeated entities, \"R3.R2.R2>E1.T1>P1\" is invalid\n",
    "        each_step_entities = substep.replace('>', '.').split('.')\n",
    "        # If any entity is repeated, it is invalid\n",
    "        if len(each_step_entities) != len(set(each_step_entities)):\n",
    "            return False\n",
    "        else:\n",
    "            all_entities += each_step_entities\n",
    "    # Remove entities with \"M\" from all_entities\n",
    "    all_entities = [each for each in all_entities if 'M' not in each]\n",
    "    if len(all_entities) != len(set(all_entities)):\n",
    "        return False\n",
    "    else:\n",
    "        return True\n",
    "\n",
    "check_invalid_answer('R1.R2.R3>S1.E1.T1>M1\\nM1>S2.T2>P1')"
   ]
  },
  {
   "cell_type": "code",
   "execution_count": 14,
   "metadata": {},
   "outputs": [
    {
     "data": {
      "text/plain": [
       "\"Thiosemicarbazide (9.11 g, 0.1 mol) was added under nitrogen to a solution 4-chloro-2'-butyrothienone (16.2 mL, 0.1 mol) in 350 mL of methanol plus 27 mL 1N HCl plus 25 mL of water. After stirring at room temperature for approximately 2 hours, all of the solid had dissolved. The reaction was then stirred at room temperature for 24 hours (overnight). By TLC starting material remained. An additional 27 mL of 1N HCl was added and the reaction stirred at room temperature for 6 hours. The solid formed was removed by filtration and dried under high vacuum to give 14.87 g (57%) of the title compound as a brown solid, mp 120-122° C.\\n\\nREACTANTs:\\nR1: 4-chloro-2'-butyrothienone,75;\\nR2: Thiosemicarbazide,0;\\n\\n\\nPRODUCTs:\\nP1: title compound,585;\\n\\n\\nSOLVENTs:\\nS1: methanol,134;\\nS2: water,175;\\nS3: HCl,157;\\nS4: HCl,413;\\n\\n\\nCATALYSTs:\\nNone\\n\\nTIMEs:\\nT1: approximately 2 hours,221;\\nT2: 24 hours,330;\\nT3: overnight,340;\\nT4: 6 hours,476;\\n\\n\\nTEMPERATUREs:\\nE1: room temperature,200;\\nE2: room temperature,309;\\nE3: room temperature,455;\\n\\n\\nYIELD:\\nY1: 57%,573;\""
      ]
     },
     "execution_count": 14,
     "metadata": {},
     "output_type": "execute_result"
    }
   ],
   "source": [
    "emphasis = \"A standard format is \\\"Rx.Ry>Sx.Cx.Ex.Tx>Mx\\\" with at most two \\\">\\\", separating reactants, reaction conditions, and products!\"\n",
    "\n",
    "clarification = \"Give me heterogeneous graphs only with no introduction or explanation.\"\n",
    "\n",
    "def modified_reaction_string(reaction_id, total_description, response, mode=0):\n",
    "    if mode == 0:   # Valid reaction, write into uspto_multiple_step.json\n",
    "        # If \"response\" has a substring of \"Don't make the mistake of\", find the start of the substring\n",
    "        pattern = \"\\n\\n[Output]:\"\n",
    "        start = total_description.find(pattern)\n",
    "        if start != -1:\n",
    "            total_description = total_description[:start]\n",
    "        return total_description\n",
    "    elif mode == 1: # Invalid reaction, Write into uspto_invalid.json\n",
    "        pattern = \"(Do not make the mistake of\"\n",
    "        start = total_description.find(pattern)\n",
    "        if start != -1:\n",
    "            total_description = total_description[:start]\n",
    "        return \"[Input]\\nReaction \" + reaction_id + \" description:\\n\" + total_description + \"(Do not make the mistake of '\" + response + \"')\"\n",
    "\n",
    "test_string = \"Thiosemicarbazide (9.11 g, 0.1 mol) was added under nitrogen to a solution 4-chloro-2'-butyrothienone (16.2 mL, 0.1 mol) in 350 mL of methanol plus 27 mL 1N HCl plus 25 mL of water. After stirring at room temperature for approximately 2 hours, all of the solid had dissolved. The reaction was then stirred at room temperature for 24 hours (overnight). By TLC starting material remained. An additional 27 mL of 1N HCl was added and the reaction stirred at room temperature for 6 hours. The solid formed was removed by filtration and dried under high vacuum to give 14.87 g (57%) of the title compound as a brown solid, mp 120-122° C.\\n\\nREACTANTs:\\nR1: 4-chloro-2'-butyrothienone,75;\\nR2: Thiosemicarbazide,0;\\n\\n\\nPRODUCTs:\\nP1: title compound,585;\\n\\n\\nSOLVENTs:\\nS1: methanol,134;\\nS2: water,175;\\nS3: HCl,157;\\nS4: HCl,413;\\n\\n\\nCATALYSTs:\\nNone\\n\\nTIMEs:\\nT1: approximately 2 hours,221;\\nT2: 24 hours,330;\\nT3: overnight,340;\\nT4: 6 hours,476;\\n\\n\\nTEMPERATUREs:\\nE1: room temperature,200;\\nE2: room temperature,309;\\nE3: room temperature,455;\\n\\n\\nYIELD:\\nY1: 57%,573;\\n\\n[Output]:\\n\"\n",
    "\n",
    "modified_reaction_string(\"123\",test_string, \"a>b>c\", mode=0)"
   ]
  },
  {
   "cell_type": "code",
   "execution_count": 15,
   "metadata": {},
   "outputs": [],
   "source": [
    "def output_structured_data(request_in_each_line = 0, threshold = 3, selected_lines = 10000, repair = True):\n",
    "    # Read raw response first\n",
    "    with open(file_path, 'r') as raw_response: \n",
    "        lines = raw_response.readlines()\n",
    "        total_data = [json.loads(line) for line in lines]\n",
    "    \n",
    "    # Fixed Prompt\n",
    "    modified_request = copy.deepcopy(total_data[0][0])     \n",
    "    modified_request['messages'][1]['content'] = \"\"\n",
    "    \n",
    "    # Process the first selected_lines of data\n",
    "    if selected_lines > len(total_data):                   \n",
    "        selected_lines = len(total_data)\n",
    "\n",
    "    for dataline in total_data[:selected_lines]:\n",
    "        total_description = extract_description(dataline)\n",
    "        total_response, reaction_id = extract_gpt_response(dataline)\n",
    "\n",
    "        for idx, response in enumerate(total_response):\n",
    "            if repair:\n",
    "                response = pattern_repair(response)\n",
    "            if check_invalid_answer(response):\n",
    "                with open(output_path + \"uspto_multiple_step.json\", 'a') as structured_data:\n",
    "                    structured_data.write(json.dumps({'reaction_id': reaction_id[idx], 'description': modified_reaction_string(reaction_id[idx], total_description[idx], response, mode=0), 'response': response}) + '\\n')\n",
    "            else:\n",
    "                with open(output_path + \"uspto_invalid.json\", 'a') as invalid_data:\n",
    "                    if request_in_each_line < threshold:\n",
    "                        modified_request['messages'][1]['content'] += modified_reaction_string(reaction_id[idx], total_description[idx], response, mode=1)\n",
    "                        request_in_each_line += 1\n",
    "                    else:\n",
    "                        request_in_each_line = 0\n",
    "                        invalid_data.write(json.dumps(modified_request) + '\\n')\n",
    "                        modified_request['messages'][1]['content'] = \"\"\n",
    "                        modified_request['messages'][1]['content'] += modified_reaction_string(reaction_id[idx], total_description[idx], response, mode=1)\n",
    "                        request_in_each_line += 1\n",
    "        \n",
    "    # Less than threshold requests in one line, still need to write them\n",
    "    if request_in_each_line != 0:\n",
    "        with open(output_path + \"uspto_invalid.json\", 'a') as invalid_data:\n",
    "            invalid_data.write(json.dumps(modified_request) + '\\n')\n",
    "    # If no error arise, print success\n",
    "    print(\"Structured data output success!\")\n"
   ]
  },
  {
   "cell_type": "code",
   "execution_count": 16,
   "metadata": {},
   "outputs": [],
   "source": [
    "def write_over_original_file(\n",
    "        read_file = output_path + \"uspto_invalid.json\",\n",
    "        write_path = file_path2\n",
    "        ):\n",
    "    with open(read_file, 'r') as invalid_file:\n",
    "        lines = invalid_file.readlines()\n",
    "        with open(write_path, 'w') as raw_file:\n",
    "            for line in lines:\n",
    "                raw_file.write(line)\n"
   ]
  },
  {
   "cell_type": "markdown",
   "metadata": {},
   "source": [
    "##### (This block is optional)\n",
    "Delete all the relevant files."
   ]
  },
  {
   "cell_type": "code",
   "execution_count": 34,
   "metadata": {},
   "outputs": [
    {
     "name": "stdout",
     "output_type": "stream",
     "text": [
      "all relevant files removed.\n"
     ]
    }
   ],
   "source": [
    "if os.path.exists(output_path + \"uspto_multiple_step.json\"):\n",
    "    os.remove(output_path + \"uspto_multiple_step.json\")\n",
    "if os.path.exists(output_path + \"uspto_invalid.json\"):\n",
    "    os.remove(output_path + \"uspto_invalid.json\")\n",
    "if os.path.exists(file_path):   # result_uspto_requests.json\n",
    "    os.remove(file_path)\n",
    "if os.path.exists(file_path2):  # uspto_requests.json\n",
    "    os.remove(file_path2)\n",
    "print(\"all relevant files removed.\")"
   ]
  },
  {
   "cell_type": "markdown",
   "metadata": {},
   "source": [
    "##### First, run the block below to extract our first-time structured data of reaction process\n",
    "Two files are generated\n",
    "> `uspto_multiple_step.json`: structured reaction process (heterogenous graph).\n",
    "> `uspto_invalid.json`: invalid structured reaction process. Need to recall API on those."
   ]
  },
  {
   "cell_type": "code",
   "execution_count": 64,
   "metadata": {},
   "outputs": [
    {
     "name": "stdout",
     "output_type": "stream",
     "text": [
      "Structured data output success!\n"
     ]
    }
   ],
   "source": [
    "if os.path.exists(output_path + \"uspto_multiple_step.json\"):\n",
    "    os.remove(output_path + \"uspto_multiple_step.json\")\n",
    "if os.path.exists(output_path + \"uspto_invalid.json\"):\n",
    "    os.remove(output_path + \"uspto_invalid.json\")\n",
    "output_structured_data(repair=True)"
   ]
  },
  {
   "cell_type": "markdown",
   "metadata": {},
   "source": [
    "##### Second, run the block below to modify `uspto_invalid.json` into API-callable format\n",
    "We write `uspto_invalid.json` over `uspto_request.json` for API-recalling"
   ]
  },
  {
   "cell_type": "code",
   "execution_count": 65,
   "metadata": {},
   "outputs": [
    {
     "name": "stdout",
     "output_type": "stream",
     "text": [
      "result_uspto_request.json removed!\n",
      "Writing uspto_invalid.json over uspto_request.json for API-recalling\n"
     ]
    }
   ],
   "source": [
    "if os.path.exists(file_path):\n",
    "    print(\"result_uspto_request.json removed!\")\n",
    "    os.remove(file_path)\n",
    "else:\n",
    "    print(\"uspto_request.json does not exist!\")\n",
    "    \n",
    "print(\"Writing uspto_invalid.json over uspto_request.json for API-recalling\")\n",
    "write_over_original_file()\n",
    "\n",
    "\n",
    "# API calling on the new uspto_request.json\n",
    "# Getting the new result_uspto_request.json"
   ]
  },
  {
   "cell_type": "markdown",
   "metadata": {},
   "source": [
    "##### Before running the below block, you need to first call API to get a new `result_uspto_request.json` based on our modified `uspto_request.json` from last procedure.\n",
    "\n",
    "Run the block below to append new valid structured reaction processes to `uspto_multiple_step.json`."
   ]
  },
  {
   "cell_type": "code",
   "execution_count": 66,
   "metadata": {},
   "outputs": [
    {
     "name": "stdout",
     "output_type": "stream",
     "text": [
      "Structured data output success!\n"
     ]
    }
   ],
   "source": [
    "if os.path.exists(output_path + \"uspto_invalid.json\"):\n",
    "    os.remove(output_path + \"uspto_invalid.json\")\n",
    "output_structured_data()"
   ]
  },
  {
   "cell_type": "markdown",
   "metadata": {},
   "source": [
    "A final structured reaction process is generated in `uspto_multiple_step.json` file."
   ]
  },
  {
   "cell_type": "code",
   "execution_count": 32,
   "metadata": {},
   "outputs": [],
   "source": [
    "import json\n",
    "uspto_multiple = \"/Users/gongshukai/Desktop/result_uspto_request backup/valid_reactions/uspto_multiple_step.json\"\n",
    "uspto_multiple_fixed = \"/Users/gongshukai/Desktop/result_uspto_request backup/valid_reactions/uspto_multiple_step_fixed.json\"\n",
    "\n",
    "def check_dataset_validity(filepath):\n",
    "    with open(filepath, 'r') as raw_response: \n",
    "        lines = raw_response.readlines()\n",
    "        total_data = [json.loads(line) for line in lines]\n",
    "\n",
    "    for data in total_data:\n",
    "        if check_invalid_answer(data['response']) == False:\n",
    "            print(\"Invalid Reaction:\", data['reaction_id'], data['response'])\n",
    "\n",
    "def check_dataset_repetition(filepath):\n",
    "    with open(filepath, 'r') as raw_response: \n",
    "        lines = raw_response.readlines()\n",
    "        total_data = [json.loads(line) for line in lines]\n",
    "\n",
    "    # Make the search O(1)\n",
    "    reaction_id_set = set()\n",
    "    for data in total_data:\n",
    "        if data['reaction_id'] in reaction_id_set:\n",
    "            print(\"Repeated Reaction ID:\", data['reaction_id'])\n",
    "        else:\n",
    "            reaction_id_set.add(data['reaction_id'])"
   ]
  },
  {
   "cell_type": "code",
   "execution_count": 23,
   "metadata": {},
   "outputs": [],
   "source": [
    "with open(uspto_multiple_fixed, 'w') as structured_data:\n",
    "    for data in total_data:\n",
    "        fixed_data = copy.deepcopy(data)\n",
    "        fixed_data['response'] = pattern_repair(data['response'])\n",
    "        if check_invalid_answer(fixed_data['response']):\n",
    "            structured_data.write(json.dumps(fixed_data) + '\\n')\n",
    "check_dataset_validity(uspto_multiple_fixed)"
   ]
  },
  {
   "cell_type": "code",
   "execution_count": 33,
   "metadata": {},
   "outputs": [
    {
     "name": "stdout",
     "output_type": "stream",
     "text": [
      "Repeated Reaction ID: 20140805-US08796295B2-0506\n",
      "Repeated Reaction ID: 20160609-US20160159842A1-0133\n",
      "Repeated Reaction ID: 20100722-US20100184815A1-0918\n",
      "Repeated Reaction ID: 20151231-US20150376185A1-0115\n",
      "Repeated Reaction ID: 20150625-US20150175601A1-2272\n",
      "Repeated Reaction ID: 20160324-US20160083346A1-0257\n",
      "Repeated Reaction ID: 20160218-US20160046631A1-0642\n",
      "Repeated Reaction ID: 20160505-US20160122331A1-1407\n",
      "Repeated Reaction ID: 20121023-US08293735B2-0384\n",
      "Repeated Reaction ID: 20110301-US07897595B2-0312\n",
      "Repeated Reaction ID: 20150421-US09012642B2-0425\n",
      "Repeated Reaction ID: 20150922-US09139565B2-0103\n",
      "Repeated Reaction ID: 20100826-US20100216750A1-0099\n",
      "Repeated Reaction ID: 20120306-US08129376B2-0530\n",
      "Repeated Reaction ID: 20111101-US08048909B2-1416\n",
      "Repeated Reaction ID: 20141125-US08895712B2-0312\n",
      "Repeated Reaction ID: 20110421-US20110092554A1-0364\n",
      "Repeated Reaction ID: 20160517-US09340525B2-0249\n",
      "Repeated Reaction ID: 20150409-US20150099781A1-0524\n",
      "Repeated Reaction ID: 20150702-US20150183771A1-0668\n",
      "Repeated Reaction ID: 20100114-US20100010007A1-0272\n",
      "Repeated Reaction ID: 20131217-US08609653B2-0955\n",
      "Repeated Reaction ID: 20120306-US08129377B2-1004\n",
      "Repeated Reaction ID: 20080930-US07429590B2-0140\n",
      "Repeated Reaction ID: 20100722-US20100184815A1-0905\n",
      "Repeated Reaction ID: 20110927-US08026248B2-0224\n",
      "Repeated Reaction ID: 20150827-US20150243893A1-0108\n",
      "Repeated Reaction ID: 20130416-US08420640B2-0111\n",
      "Repeated Reaction ID: 20111222-US20110312951A1-0238\n",
      "Repeated Reaction ID: 20160421-US20160106750A1-0902\n",
      "Repeated Reaction ID: 20080508-US20080108598A1-1393\n",
      "Repeated Reaction ID: 20100826-US20100216750A1-0099\n",
      "Repeated Reaction ID: 20070426-US20070093453A1-0418\n",
      "Repeated Reaction ID: 20111101-US08048862B2-2100\n",
      "Repeated Reaction ID: 20110920-US08022062B2-0767\n",
      "Repeated Reaction ID: 20110614-US07960365B2-0053\n",
      "Repeated Reaction ID: 20141120-US20140343070A1-1221\n",
      "Repeated Reaction ID: 20050531-US06900215B2-0483\n",
      "Repeated Reaction ID: 20060713-US20060154930A1-0247\n",
      "Repeated Reaction ID: 20080117-US20080015222A1-0254\n",
      "Repeated Reaction ID: 20100722-US20100184815A1-0913\n",
      "Repeated Reaction ID: 20160324-US20160083346A1-0261\n",
      "Repeated Reaction ID: 20100722-US20100184815A1-0917\n",
      "Repeated Reaction ID: 20081111-US07449477B2-0313\n",
      "Repeated Reaction ID: 20100722-US20100184815A1-0910\n",
      "Repeated Reaction ID: 20160505-US20160122318A1-0145\n",
      "Repeated Reaction ID: 20100722-US20100184815A1-0894\n",
      "Repeated Reaction ID: 20100826-US20100216750A1-0099\n",
      "Repeated Reaction ID: 20070802-US20070179143A1-0232\n",
      "Repeated Reaction ID: 20070619-US07232909B2-0291\n",
      "Repeated Reaction ID: 20141021-US08865750B2-0369\n",
      "Repeated Reaction ID: 20071213-US20070287716A1-0161\n",
      "Repeated Reaction ID: 20090312-US20090069319A1-0162\n",
      "Repeated Reaction ID: 20120911-US08263627B2-0435\n",
      "Repeated Reaction ID: 20101125-US20100297073A1-0168\n",
      "Repeated Reaction ID: 20100722-US20100184815A1-0923\n",
      "Repeated Reaction ID: 20151231-US20150376185A1-0115\n",
      "Repeated Reaction ID: 20150827-US20150243893A1-0114\n",
      "Repeated Reaction ID: 20100826-US20100216750A1-0099\n",
      "Repeated Reaction ID: 20061123-US20060264440A1-0124\n",
      "Repeated Reaction ID: 20100722-US20100184815A1-0914\n",
      "Repeated Reaction ID: 20121213-US20120316193A1-0288\n",
      "Repeated Reaction ID: 20131210-US08604029B2-1380\n",
      "Repeated Reaction ID: 20150702-US20150183771A1-0678\n",
      "Repeated Reaction ID: 20100722-US20100184815A1-0891\n",
      "Repeated Reaction ID: 20081009-US20080249301A1-0726\n",
      "Repeated Reaction ID: 20141014-US08859556B2-0068\n",
      "Repeated Reaction ID: 20150120-US08937041B2-0358\n",
      "Repeated Reaction ID: 20131210-US08604062B2-0271\n",
      "Repeated Reaction ID: 20041021-US20040209897A1-0595\n",
      "Repeated Reaction ID: 20160630-US20160185778A1-0438\n",
      "Repeated Reaction ID: 20070802-US20070179143A1-0232\n",
      "Repeated Reaction ID: 20040923-US20040186160A1-0294\n",
      "Repeated Reaction ID: 20130509-US20130116113A1-0141\n",
      "Repeated Reaction ID: 20111229-US20110319392A1-0762\n",
      "Repeated Reaction ID: 20130416-US08420640B2-0130\n",
      "Repeated Reaction ID: 20100722-US20100184815A1-0887\n",
      "Repeated Reaction ID: 20160121-US20160016966A1-0563\n",
      "Repeated Reaction ID: 20130205-US08367658B2-1837\n",
      "Repeated Reaction ID: 20070925-US07273878B2-0215\n",
      "Repeated Reaction ID: 20120424-US08163756B2-1293\n",
      "Repeated Reaction ID: 20160223-US09266843B2-0321\n",
      "Repeated Reaction ID: 20160705-US09382246B2-1728\n",
      "Repeated Reaction ID: 20110927-US08026248B2-0224\n"
     ]
    }
   ],
   "source": [
    "check_dataset_repetition(uspto_multiple_fixed)"
   ]
  }
 ],
 "metadata": {
  "kernelspec": {
   "display_name": "Python 3",
   "language": "python",
   "name": "python3"
  },
  "language_info": {
   "codemirror_mode": {
    "name": "ipython",
    "version": 3
   },
   "file_extension": ".py",
   "mimetype": "text/x-python",
   "name": "python",
   "nbconvert_exporter": "python",
   "pygments_lexer": "ipython3",
   "version": "3.9.6"
  }
 },
 "nbformat": 4,
 "nbformat_minor": 2
}
